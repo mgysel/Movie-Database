{
 "cells": [
  {
   "cell_type": "markdown",
   "metadata": {},
   "source": [
    "# Project 3: Visualizing Movie Data"
   ]
  },
  {
   "cell_type": "markdown",
   "metadata": {},
   "source": [
    "## Introduction:\n",
    "\n",
    "A new movie production company looking to make a new movie and wants to make sure it's a success. As a result, the movie company wants to know:\n",
    "\n",
    "1. How have movie genres changed over time?\n",
    "2. How do the attributes differ between Universal Pictures and Paramount Pictures?\n",
    "3. How have movies based on novels performed relative to movies not based on novels?\n",
    "4. An additional open-ended question determined from the data exploration.\n",
    "\n",
    "To determine these answers, <a href='https://www.themoviedb.org/?language=en.'>The Movie Database</a> was used. The Movie Database is a publicly available database that provides information on thousands of movies, such as title, cast, director, budget, revenue, genre(s), release date, and various popularity metrics.\n",
    "\n",
    "Data visualizations associated with each answer can be found <a href='https://public.tableau.com/profile/michael.gysel#!/vizhome/MovieDatabase-BAVisualizations/Studio-Genres2?publish=yes'>here</a>."
   ]
  },
  {
   "cell_type": "markdown",
   "metadata": {},
   "source": [
    "## Question 1: How have movie genres changed over time?\n",
    "\n",
    "The total number of movies for each genre, except for Westerns, has increased since 1960, and has especially increased since 2000. Drama, Comedy, Action, and Horror movies have consistently been the four genres with the most movies produced between 1960 and 2015. Recently, Thriller and Documentary movies have substantially increased and in 2015, were the genres with the fourth and fifth most movies produced."
   ]
  },
  {
   "cell_type": "markdown",
   "metadata": {},
   "source": [
    "## Question 2: How do the attributes differ between Universal Pictures and Paramount Pictures?\n",
    "\n",
    "The number of movies produced, average runtime per movie, average viewer vote, average budget per movie, and average revenue per movie for Paramount Pictures and Universal Pictures produced films have historically been very similar.  The list below describes the recent differences for each of these attributes:\n",
    "- Number of movies produced: Universal Pictures produces 5 more movies per year.\n",
    "- Average Runtime: The average runtimes vary between 100 and 120 minutes, with negligible differences between production companies.\n",
    "- Vote Average: The average viewer vote remains around 6.3/10, with negligible differences between production companies.\n",
    "- Average Budget: Paramount Pictures tends to outspend Universal Pictures by approximately \\$5 million per movie.\n",
    "- Average Revenue: Paramount Pictures tends to out-earn Universal Pictures, often by more than \\$50 million per movie."
   ]
  },
  {
   "cell_type": "markdown",
   "metadata": {},
   "source": [
    "## Question 3: How have movies based on novels performed relative to movies not based on novels?\n",
    "\n",
    "Movies based on novels have been produced at much lower rates than movies not based on novels between 1960 and 2015. The list below describes the recent differences for average runtime, average viewer vote, average budget per movie, and average revenue per movie:\n",
    "- Average Runtime: The average runtimes of movies based on novels are consistently larger than those of movies not based on novels, and were approximately 20 minutes longer in 2015.\n",
    "- Vote Average: The average viewer vote of movies based on novels have historically been slightly higher than movies not based on novels, and were only 0.3 ahead in 2015.\n",
    "- Average Budget: Movies based on novels historically outspend movies not based on novels pretty significantly, and were approximately \\$20 million more in 2015.\n",
    "- Average Revenue: Movies based on novels historically outear movies not based on novels very significantly, and were approximately \\$100 million more in 2015."
   ]
  },
  {
   "cell_type": "markdown",
   "metadata": {},
   "source": [
    "## Question 4: What are the attributes of recent movies with low budgets and high revenues?\n",
    "\n",
    "Recent low budget high revenue movies, or movies since 1990 with a budget less than \\$50M and a revenue greater than \\$200M, are close to 15 minutes longer, slightly more popular, and are mostly Comedy, Drama, or Action movies."
   ]
  }
 ],
 "metadata": {
  "kernelspec": {
   "display_name": "Python [conda env:anaconda3]",
   "language": "python",
   "name": "conda-env-anaconda3-py"
  },
  "language_info": {
   "codemirror_mode": {
    "name": "ipython",
    "version": 3
   },
   "file_extension": ".py",
   "mimetype": "text/x-python",
   "name": "python",
   "nbconvert_exporter": "python",
   "pygments_lexer": "ipython3",
   "version": "3.6.4"
  }
 },
 "nbformat": 4,
 "nbformat_minor": 2
}
